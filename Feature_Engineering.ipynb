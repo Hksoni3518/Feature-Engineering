{
  "nbformat": 4,
  "nbformat_minor": 0,
  "metadata": {
    "colab": {
      "provenance": []
    },
    "kernelspec": {
      "name": "python3",
      "display_name": "Python 3"
    },
    "language_info": {
      "name": "python"
    }
  },
  "cells": [
    {
      "cell_type": "markdown",
      "source": [
        "# Assignment Questions\n"
      ],
      "metadata": {
        "id": "xf-8j1QQygWy"
      }
    },
    {
      "cell_type": "markdown",
      "source": [
        "Q.1.  What is a parameter?\n",
        "\n",
        "Answer ->\n",
        "\n",
        "A parameter is a value or input that is used to customize or influence the behavior of something—most often in math, science, programming, or statistics."
      ],
      "metadata": {
        "id": "QcX-eij6_6W4"
      }
    },
    {
      "cell_type": "markdown",
      "source": [
        "Q.2. What is correlation? What does negative correlation mean?\n",
        "\n",
        "Answer ->\n",
        "\n",
        "Correlation is a statistical measure that describes the strength and direction of a relationship between two variables.\n",
        "The correlation coefficient is usually represented by r, and it ranges from -1 to +1.\n",
        "\n",
        "A negative correlation means that as one variable increases, the other decreases. In simple terms: they move in opposite directions."
      ],
      "metadata": {
        "id": "jq4eMuvb_6br"
      }
    },
    {
      "cell_type": "markdown",
      "source": [
        "Q.3. Define Machine Learning. What are the main components in Machine Learning?\n",
        "\n",
        "Answer ->\n",
        "\n",
        "Machine learning is subfield of computer science that gives computers the ability to learn without explicity progrmmed . Machine learns patterns form the data and replicate the same in future.\n",
        "\n",
        "There are following main component of machine learning :     \n",
        "\n",
        "\n",
        "*   Data\n",
        "*   Feature\n",
        "\n",
        "\n",
        "*   Model\n",
        "*   Algorithm\n",
        "\n",
        "*   Training\n",
        "*   Evaluation\n",
        "\n",
        "*   prediction\n",
        "*   Feedback\n",
        "\n",
        "\n",
        "\n",
        "\n",
        "\n",
        "\n",
        "\n"
      ],
      "metadata": {
        "id": "cLSOYNYs_6eX"
      }
    },
    {
      "cell_type": "markdown",
      "source": [
        "Q.4. How does loss value help in determining whether the model is good or not?\n",
        "\n",
        "Answer ->\n",
        "\n",
        "The loss value is a key metric that tells you how far off your model's predictions are from the actual values. It quantifies the error the model makes during training or evaluation.\n",
        "\n",
        "What it tells you\tWhy it matters :     \n",
        "Whether the model is learning\tA high loss means poor predictions; low loss means better performance.\n",
        "\n",
        "If training is progressing :    \n",
        "You track the loss over time. If it's decreasing, the model is learning.\n",
        "\n",
        "When to stop training :\n",
        "If the loss stops decreasing (plateaus), it may be time to stop training.\n",
        "\n",
        "Compare different models or settings :\n",
        "Lower loss = better model (assuming same data and loss function)."
      ],
      "metadata": {
        "id": "MSPcHYOj_6hc"
      }
    },
    {
      "cell_type": "markdown",
      "source": [
        "Q.5. What are continuous and categorical variables?\n",
        "\n",
        "Answer ->\n",
        "\n",
        "Continuous variables :    \n",
        "A continuous variable is a variable that can take any value within a range.\n",
        "These are usually numerical and often come from measurements.\n",
        "\n",
        " Characteristics:\n",
        "\n",
        "- Infinite possible values within a range\n",
        "\n",
        "- Can be decimal or whole numbers\n",
        "\n",
        "- Values can be ordered and averaged\n",
        "\n",
        "Categorical variables :    \n",
        "A categorical variable (also called qualitative) represents categories or groups.\n",
        "These values are labels and do not have a numeric meaning (even if they’re coded as numbers).\n",
        "\n",
        " Characteristics:\n",
        "\n",
        "- Represent types or groups\n",
        "\n",
        "- Cannot be meaningfully averaged\n",
        "\n",
        "- May be nominal (no order) or ordinal (ordered)"
      ],
      "metadata": {
        "id": "kU5mtpfj_6k2"
      }
    },
    {
      "cell_type": "markdown",
      "source": [
        "Q. 6. How do we handle categorical variables in Machine Learning? What are the common t\n",
        "echniques?\n",
        "\n",
        "Answer ->\n",
        "\n",
        "Machine learning algorithms generally work best with numerical data, so categorical variables must be converted into a numerical format before being used in models.\n",
        "\n",
        "Here’s how we commonly handle categorical variables:\n",
        "\n",
        "1. One-Hot Encoding (Most Common):\n",
        "\n",
        "      - Converts each category into a binary column (0 or 1).\n",
        "\n",
        "      - Works best for nominal variables (no order).\n",
        "\n",
        "2. Label Encoding:\n",
        "\n",
        "    - Converts categories into integer codes: 0, 1, 2, ...\n",
        "\n",
        "    - Simple and efficient.\n",
        "\n",
        "    - Best for ordinal variables (e.g., Low < Medium < High).\n",
        "\n",
        "3. Ordinal Encoding\n",
        "\n",
        "    - Similar to label encoding, but you define the order explicitly.\n",
        "\n",
        "4. Frequency or Count Encoding\n",
        "\n",
        "    - Replace each category with how often it appears in the dataset."
      ],
      "metadata": {
        "id": "Ury4VNlL_6nu"
      }
    },
    {
      "cell_type": "markdown",
      "source": [
        "Q.7. What do you mean by training and testing a dataset?p\n",
        "\n",
        "Answer ->\n",
        "\n",
        "1. Training Dataset :    \n",
        "\n",
        "    - The training set is the portion of data used to train the model.\n",
        "\n",
        "    - The model learns patterns, relationships, and rules from this data.\n",
        "\n",
        "    - It uses input features and their corresponding known outputs (labels) to learn.\n",
        "\n",
        "2. Testing Dataset\n",
        "\n",
        "    - The testing set is used after training to evaluate how well the model performs on unseen data.\n",
        "\n",
        "    - It helps you check if the model can generalize beyond the data it was trained on.\n",
        "\n",
        "    - It should never be used during training."
      ],
      "metadata": {
        "id": "uELg6y55WIfi"
      }
    },
    {
      "cell_type": "markdown",
      "source": [
        "Q.8. What is sklearn.preprocessing?\n",
        "\n",
        "Answer ->\n",
        "\n",
        "sklearn.preprocessing is a module in Scikit-learn (also known as sklearn) that provides tools to transform or scale your data before feeding it into a machine learning model.\n",
        "\n",
        "Purpose :  Preprocessing helps improve model performance by making the data cleaner, standardized, and more suitable for ML algorithms."
      ],
      "metadata": {
        "id": "1K_ivQtBaWoP"
      }
    },
    {
      "cell_type": "markdown",
      "source": [
        "Q.9. What is a Test set?\n",
        "\n",
        "Answer ->\n",
        "\n",
        "A test set is a portion of your dataset that is used to evaluate the final performance of a machine learning model after it has been trained.\n",
        "\n",
        " The test set helps you answer:\n",
        "\n",
        "    \"How well does my model perform on new, unseen data?\"\n",
        "\n",
        "Purpose of the Test Set :     \n",
        "\n",
        "- Simulates real-world performance on data the model hasn't seen before.\n",
        "\n",
        "- Helps you detect problems like overfitting (when the model is too tightly fitted to training data).\n",
        "\n",
        "- It gives you a realistic estimate of how the model will behave in production."
      ],
      "metadata": {
        "id": "a16PxRsjas1H"
      }
    },
    {
      "cell_type": "markdown",
      "source": [
        "Q.10. How do we split data for model fitting (training and testing) in Python?\n",
        "How do you approach a Machine Learning problem?\n",
        "\n",
        "Answer ->\n",
        "\n",
        "To split data into training and testing sets, the most common approach is using train_test_split from the Scikit-learn (sklearn) library."
      ],
      "metadata": {
        "id": "u1hTWsYibLfQ"
      }
    },
    {
      "cell_type": "code",
      "source": [
        "from sklearn.model_selection import train_test_split\n",
        "\n",
        "# Suppose X = features, y = labels/target\n",
        "X_train, X_test, y_train, y_test = train_test_split(\n",
        "    X, y,                # Your data\n",
        "    test_size=0.2,       # 20% test, 80% train\n",
        "    random_state=42,     # Seed for reproducibility\n",
        "    stratify=y           # (Optional) keep class balance in classification problems\n",
        ")\n"
      ],
      "metadata": {
        "id": "p_qEvLO6cu6i"
      },
      "execution_count": null,
      "outputs": []
    },
    {
      "cell_type": "markdown",
      "source": [
        "How to Approach a Machine Learning Problem :     \n",
        "\n",
        "Step 1: Understand the Problem\n",
        "\n",
        "Step 2: Collect and Explore the Data\n",
        "\n",
        "Step 3: Preprocess the Data\n",
        "\n",
        "Step 4: Split the Data\n",
        "\n",
        "Step 5: Choose and Train a Model\n",
        "\n",
        "Step 6: Evaluate the Model\n",
        "\n",
        "Step 7: Improve the Model\n",
        "\n",
        "Step 8: Deploy and Monitor (Optional)"
      ],
      "metadata": {
        "id": "bIu00Cxdbm7h"
      }
    },
    {
      "cell_type": "markdown",
      "source": [
        "Q.11. Why do we have to perform EDA before fitting a model to the data?\n",
        "\n",
        "Answer ->\n",
        "\n",
        "Top Reasons to Perform EDA Before Modeling :      \n",
        "\n",
        "1. Understand the Data Structure\n",
        "2. Detect and Handle Missing Values\n",
        "3. Identify Outliers or Anomalies\n",
        "4. Uncover Data Distributions\n",
        "5. Spot Feature Relationships\n",
        "6. Understand Categorical Variables\n",
        "7. Check for Data Leakage\n",
        "8. Better Feature Engineering\n",
        "9. Guide Model Selection"
      ],
      "metadata": {
        "id": "xFoWELlCdQh4"
      }
    },
    {
      "cell_type": "markdown",
      "source": [
        "Q.12. What is correlation?\n",
        "\n",
        "Answer ->\n",
        "\n",
        "Correlation is a statistical measure that describes the strength and direction of a relationship between two variables.\n",
        "\n",
        "In simple terms :\n",
        " Correlation tells you how one variable changes when another variable changes.\n",
        "\n",
        " Types of correlation :      \n",
        " 1. Positive correlation\n",
        " 2. Negative correlation\n",
        " 3. Zero correlation"
      ],
      "metadata": {
        "id": "CmUlkB1td8Rk"
      }
    },
    {
      "cell_type": "markdown",
      "source": [
        "Q.13. What does negative correlation mean?\n",
        "\n",
        "Answer ->\n",
        "\n",
        "A negative correlation means that as one variable increases, the other decreases, and vice versa.\n",
        "\n",
        "In simple terms: the two variables move in opposite directions."
      ],
      "metadata": {
        "id": "b3yVhmtpelEq"
      }
    },
    {
      "cell_type": "markdown",
      "source": [
        "Q.14. How can you find correlation between variables in Python?\n",
        "\n",
        "Answer ->\n",
        "\n",
        "To measure correlation in Python, the most common tool is the pandas library. It provides simple, powerful functions to compute correlation coefficients.\n",
        "\n",
        "1. Import and Load Your Data\n",
        "2. Use .corr() to Find Correlation\n",
        "3. Visualize with a Heatmap (Optional)\n",
        "4. Find Correlation Between Two Specific Columns\n",
        "5. Use Other Correlation Methods"
      ],
      "metadata": {
        "id": "OHacjMepe34F"
      }
    },
    {
      "cell_type": "markdown",
      "source": [
        "Q.15. What is causation? Explain difference between correlation and causation with an example.\n",
        "\n",
        "Answer ->\n",
        "\n",
        "Causation means that one event or variable directly causes a change in another.\n",
        "In other words:\n",
        "\n",
        "    A → B: When A happens, it causes B to happen.\n",
        "\n",
        "Causation implies a cause-and-effect relationship.\n",
        "\n",
        "\n",
        "Difference betweem correlation and causation with an example :    \n",
        "\n",
        "- In correlation, variables move together while In causation , one variable produces an effects.\n",
        "\n",
        "- In correlation, no proves causes while proves causes present in causation.\n",
        "\n",
        "- Not necessarily required controlled study in correlation while Usually required controlled study in causation .\n",
        "\n",
        "Example to Compare Correlation and Causation :     \n",
        "\n",
        "Scenario:\n",
        "\n",
        "You find that ice cream sales and drowning incidents are positively correlated — when ice cream sales go up, so do drownings.\n",
        "\n",
        "Is this causation?\n",
        "\n",
        "- No. Ice cream doesn’t cause drowning.\n",
        "\n",
        "What’s the real cause?\n",
        "\n",
        "- Hot weather increases both ice cream sales and swimming activity, which can lead to more drowning incidents.\n",
        "\n",
        " So, ice cream sales and drownings are correlated,\n",
        " but one does not cause the other.\n",
        "\n"
      ],
      "metadata": {
        "id": "gnEmkTHCfhjh"
      }
    },
    {
      "cell_type": "markdown",
      "source": [
        "Q.16. What is an Optimizer? What are different types of optimizers? Explain each with an example.\n",
        "\n",
        "Answer ->  \n",
        "\n",
        "\n",
        "An optimizer is an algorithm used during model training to adjust the model's parameters (like weights) to minimize the loss function and improve accuracy.\n",
        "\n",
        "In simple terms :\n",
        "An optimizer tells the model how to learn — how to get better by updating weights in the right direction.\n",
        "\n",
        "Types of optimizers :    \n",
        "\n",
        "1.Gradient Descent (GD)\n",
        "\n",
        "- Basic concept: Update weights in the opposite direction of the gradient of the loss function.\n",
        "\n",
        "Example:\n",
        "\n",
        "- If the gradient is +0.5 and learning rate is 0.1:\n",
        "New weight = old weight - (0.1 × 0.5)\n",
        "\n",
        "2.Stochastic Gradient Descent (SGD)\n",
        "\n",
        "- Improvement over GD: Instead of using all data, it updates weights using one sample at a time.\n",
        "\n",
        "3.Momentum\n",
        "\n",
        "- Builds on SGD by adding a “momentum” term that helps it keep moving in the same direction.\n",
        "\n",
        "4.RMSProp (Root Mean Square Propagation)\n",
        "\n",
        "- Adjusts the learning rate for each parameter individually, based on how frequently it is updated."
      ],
      "metadata": {
        "id": "whZeLGvjjZax"
      }
    },
    {
      "cell_type": "markdown",
      "source": [
        "Q.17. What is sklearn.linear_model ?\n",
        "\n",
        "Answer ->\n",
        "\n",
        "sklearn.linear_model is a module in the Scikit-learn (sklearn) library that contains a collection of linear models used for regression and classification tasks in machine learning.\n",
        "\n",
        "It provides tools to fit linear equations to data — either to predict values (regression) or assign classes (classification)."
      ],
      "metadata": {
        "id": "dy6SHlq4kTPq"
      }
    },
    {
      "cell_type": "markdown",
      "source": [
        "Q.18. What does model.fit() do? What arguments must be given?\n",
        "\n",
        "Answer ->\n",
        "\n",
        "The .fit() method is used to train (or fit) a machine learning model on your dataset.\n",
        "\n",
        "Think of it as the step where the model \"learns\" from the data.\n",
        "\n",
        "Required argument :     \n",
        "\n",
        "X\t-> Feature data (independent variables)\t, 2D array or DataFrame (n_samples x n_features)\n",
        "\n",
        "y -> \tTarget data (dependent variable / labels) ,\t1D array or Series (n_samples)"
      ],
      "metadata": {
        "id": "3I4wMqEIkeWJ"
      }
    },
    {
      "cell_type": "markdown",
      "source": [
        "Q.19. What does model.predict() do? What arguments must be given?\n",
        "\n",
        "Answer ->\n",
        "\n",
        "The .predict() method is used after training to make predictions on new (unseen) data using the model’s learned patterns.\n",
        "\n",
        "In simple terms :\n",
        "model.predict() tells the model: “Now that you’ve learned from the training data, what do you think the output should be for this input?”\n",
        "\n",
        "Required argument :  \n",
        "\n",
        "X ->\n",
        "The input features to make predictions on ,\n",
        "Same format as training data"
      ],
      "metadata": {
        "id": "dWFWGVqvuq7D"
      }
    },
    {
      "cell_type": "markdown",
      "source": [
        "Q.20. What are continuous and categorical variables?\n",
        "\n",
        "Answer ->\n",
        "\n",
        "Continuous Variables :     \n",
        "\n",
        "A continuous variable is a numerical variable that can take any value within a range, including fractions/decimals.\n",
        "\n",
        "These values are measurable (not countable) and often come from instruments or sensors.\n",
        "\n",
        " Examples:\n",
        "\n",
        "- Temperature (e.g., 23.5°C)\n",
        "\n",
        "- Height (e.g., 172.8 cm)\n",
        "\n",
        "- Weight (e.g., 65.3 kg)\n",
        "\n",
        "- Price (e.g., $9.99)\n",
        "\n",
        "- Time (e.g., 3.67 hours)\n",
        "\n",
        "\n",
        "Categorical Variables :      \n",
        "\n",
        "\n",
        "A categorical variable represents data that falls into distinct categories or groups, often non-numeric or encoded as numbers.\n",
        "\n",
        "These values are countable, not measurable.\n",
        "\n",
        " Examples:\n",
        "\n",
        "- Gender (Male, Female)\n",
        "\n",
        "- City (London, Paris, Tokyo)\n",
        "\n",
        "- Education Level (High School, Bachelor, Master)\n",
        "\n",
        "- Binary categories (Yes/No, 0/1)\n",
        "\n",
        "- Product category (Electronics, Clothing, Food)"
      ],
      "metadata": {
        "id": "WLEitcXbvjUD"
      }
    },
    {
      "cell_type": "markdown",
      "source": [
        "Q.21. What is feature scaling? How does it help in Machine Learning?\n",
        "\n",
        "Answer ->\n",
        "\n",
        "Feature scaling :    \n",
        "Feature scaling is the process of standardizing or normalizing the range of independent variables (features) in your dataset so they are on a similar scale.\n",
        "\n",
        "It help by :     \n",
        "\n",
        "- Puts all features on similar scale\n",
        "- Improves convergence speed\n",
        "- Makes distance-based metrics meaningful\n",
        "- Enhances model interpretability"
      ],
      "metadata": {
        "id": "0tdYMjxVwMkS"
      }
    },
    {
      "cell_type": "markdown",
      "source": [
        "Q.22. How do we perform scaling in Python?\n",
        "\n",
        "Answer ->  \n",
        "\n",
        "Python makes feature scaling easy using scikit-learn’s preprocessing module.\n",
        "\n",
        "Step-by-Step : Feature Scaling ->\n",
        "\n",
        "1. Import Required Scalers\n",
        "2. Choose and Initialize a Scaler\n",
        "    - You can pick one of the following based on your needs.\n",
        "3. Fit the Scaler to Your Data\n",
        "    - Usually, you only fit on training data\n",
        "    - Then use transform or fit_transform to scale"
      ],
      "metadata": {
        "id": "3IxMm9Ozw1Rz"
      }
    },
    {
      "cell_type": "markdown",
      "source": [
        "Q.23. What is sklearn.preprocessing?\n",
        "\n",
        "Answer ->\n",
        "\n",
        "sklearn.preprocessing is a module in Scikit-learn that provides tools to prepare and transform your data before feeding it into a machine learning model.\n",
        "\n",
        "In simple terms :\n",
        "It helps you clean, scale, encode, or normalize your data so that machine learning algorithms can understand it better."
      ],
      "metadata": {
        "id": "MGDKPPOwxj6-"
      }
    },
    {
      "cell_type": "markdown",
      "source": [
        "Q.24. How do we split data for model fitting (training and testing) in Python?\n",
        "\n",
        "Answer ->\n",
        "\n",
        "To train and evaluate a machine learning model properly, you need to split your dataset into:\n",
        "\n",
        "- Training set – to train the model\n",
        "\n",
        "- Testing set – to evaluate how well the model performs on unseen data\n",
        "\n",
        "Step-by-Step: Using train_test_split :     \n",
        "\n",
        "1. Import the function\n",
        "2. Prepare your features and target\n",
        "3. Split the data"
      ],
      "metadata": {
        "id": "W_SZq8Tdxt5k"
      }
    },
    {
      "cell_type": "markdown",
      "source": [
        "Q.25. Explain data encoding?\n",
        "\n",
        "Answer ->\n",
        "\n",
        "Data encoding is the process of converting categorical (non-numeric) data into numeric form so that it can be used by machine learning algorithms, which typically require numerical input.\n",
        "\n",
        "Machine learning models can’t understand strings like \"Red\" or \"Male\", so we encode them into numbers."
      ],
      "metadata": {
        "id": "xGvpPiftyKr_"
      }
    }
  ]
}